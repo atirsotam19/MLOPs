{
 "cells": [
  {
   "cell_type": "code",
   "execution_count": 63,
   "id": "0433811f",
   "metadata": {},
   "outputs": [
    {
     "data": {
      "text/html": [
       "<pre style=\"white-space:pre;overflow-x:auto;line-height:normal;font-family:Menlo,'DejaVu Sans Mono',consolas,'Courier New',monospace\"><span style=\"color: #7fbfbf; text-decoration-color: #7fbfbf\">[06/17/25 14:44:16] </span><span style=\"color: #808000; text-decoration-color: #808000\">WARNING </span> c:\\Users\\<span style=\"color: #008080; text-decoration-color: #008080; font-weight: bold\">35191</span>\\anaconda3\\anaconda\\envs\\Machine_Learning_Operations\\Lib <a href=\"file://c:\\Users\\35191\\anaconda3\\anaconda\\envs\\Machine_Learning_Operations\\Lib\\warnings.py\" target=\"_blank\"><span style=\"color: #7f7f7f; text-decoration-color: #7f7f7f\">warnings.py</span></a><span style=\"color: #7f7f7f; text-decoration-color: #7f7f7f\">:</span><a href=\"file://c:\\Users\\35191\\anaconda3\\anaconda\\envs\\Machine_Learning_Operations\\Lib\\warnings.py#110\" target=\"_blank\"><span style=\"color: #7f7f7f; text-decoration-color: #7f7f7f\">110</span></a>\n",
       "<span style=\"color: #7fbfbf; text-decoration-color: #7fbfbf\">                    </span>         \\site-packages\\kedro\\io\\data_catalog.py:<span style=\"color: #008080; text-decoration-color: #008080; font-weight: bold\">165</span>: KedroDeprecationWarning:  <span style=\"color: #7f7f7f; text-decoration-color: #7f7f7f\">               </span>\n",
       "<span style=\"color: #7fbfbf; text-decoration-color: #7fbfbf\">                    </span>         `DataCatalog` has been deprecated and will be replaced by              <span style=\"color: #7f7f7f; text-decoration-color: #7f7f7f\">               </span>\n",
       "<span style=\"color: #7fbfbf; text-decoration-color: #7fbfbf\">                    </span>         `KedroDataCatalog`, in Kedro <span style=\"color: #008080; text-decoration-color: #008080; font-weight: bold\">1.0</span>.<span style=\"color: #008080; text-decoration-color: #008080; font-weight: bold\">0.</span>Currently some `KedroDataCatalog`   <span style=\"color: #7f7f7f; text-decoration-color: #7f7f7f\">               </span>\n",
       "<span style=\"color: #7fbfbf; text-decoration-color: #7fbfbf\">                    </span>         APIs have been retained for compatibility with `DataCatalog`,          <span style=\"color: #7f7f7f; text-decoration-color: #7f7f7f\">               </span>\n",
       "<span style=\"color: #7fbfbf; text-decoration-color: #7fbfbf\">                    </span>         including the `datasets` property and the `get_datasets`,              <span style=\"color: #7f7f7f; text-decoration-color: #7f7f7f\">               </span>\n",
       "<span style=\"color: #7fbfbf; text-decoration-color: #7fbfbf\">                    </span>         `_get_datasets`, `add`,` list`, `add_feed_dict`, and `shallow_copy`    <span style=\"color: #7f7f7f; text-decoration-color: #7f7f7f\">               </span>\n",
       "<span style=\"color: #7fbfbf; text-decoration-color: #7fbfbf\">                    </span>         methods. These will be removed or replaced with updated alternatives   <span style=\"color: #7f7f7f; text-decoration-color: #7f7f7f\">               </span>\n",
       "<span style=\"color: #7fbfbf; text-decoration-color: #7fbfbf\">                    </span>         in Kedro <span style=\"color: #008080; text-decoration-color: #008080; font-weight: bold\">1.0</span>.<span style=\"color: #008080; text-decoration-color: #008080; font-weight: bold\">0</span>. For more details, refer to the documentation:          <span style=\"color: #7f7f7f; text-decoration-color: #7f7f7f\">               </span>\n",
       "<span style=\"color: #7fbfbf; text-decoration-color: #7fbfbf\">                    </span>         <span style=\"color: #0000ff; text-decoration-color: #0000ff; text-decoration: underline\">https://docs.kedro.org/en/stable/data/index.html#kedrodatacatalog-expe</span> <span style=\"color: #7f7f7f; text-decoration-color: #7f7f7f\">               </span>\n",
       "<span style=\"color: #7fbfbf; text-decoration-color: #7fbfbf\">                    </span>         <span style=\"color: #0000ff; text-decoration-color: #0000ff; text-decoration: underline\">rimental-feature</span>                                                       <span style=\"color: #7f7f7f; text-decoration-color: #7f7f7f\">               </span>\n",
       "<span style=\"color: #7fbfbf; text-decoration-color: #7fbfbf\">                    </span>           <span style=\"color: #800080; text-decoration-color: #800080; font-weight: bold\">warnings.warn</span><span style=\"font-weight: bold\">(</span>                                                       <span style=\"color: #7f7f7f; text-decoration-color: #7f7f7f\">               </span>\n",
       "<span style=\"color: #7fbfbf; text-decoration-color: #7fbfbf\">                    </span>                                                                                <span style=\"color: #7f7f7f; text-decoration-color: #7f7f7f\">               </span>\n",
       "</pre>\n"
      ],
      "text/plain": [
       "\u001b[2;36m[06/17/25 14:44:16]\u001b[0m\u001b[2;36m \u001b[0m\u001b[33mWARNING \u001b[0m c:\\Users\\\u001b[1;36m35191\u001b[0m\\anaconda3\\anaconda\\envs\\Machine_Learning_Operations\\Lib \u001b]8;id=339305;file://c:\\Users\\35191\\anaconda3\\anaconda\\envs\\Machine_Learning_Operations\\Lib\\warnings.py\u001b\\\u001b[2mwarnings.py\u001b[0m\u001b]8;;\u001b\\\u001b[2m:\u001b[0m\u001b]8;id=564170;file://c:\\Users\\35191\\anaconda3\\anaconda\\envs\\Machine_Learning_Operations\\Lib\\warnings.py#110\u001b\\\u001b[2m110\u001b[0m\u001b]8;;\u001b\\\n",
       "\u001b[2;36m                    \u001b[0m         \\site-packages\\kedro\\io\\data_catalog.py:\u001b[1;36m165\u001b[0m: KedroDeprecationWarning:  \u001b[2m               \u001b[0m\n",
       "\u001b[2;36m                    \u001b[0m         `DataCatalog` has been deprecated and will be replaced by              \u001b[2m               \u001b[0m\n",
       "\u001b[2;36m                    \u001b[0m         `KedroDataCatalog`, in Kedro \u001b[1;36m1.0\u001b[0m.\u001b[1;36m0.\u001b[0mCurrently some `KedroDataCatalog`   \u001b[2m               \u001b[0m\n",
       "\u001b[2;36m                    \u001b[0m         APIs have been retained for compatibility with `DataCatalog`,          \u001b[2m               \u001b[0m\n",
       "\u001b[2;36m                    \u001b[0m         including the `datasets` property and the `get_datasets`,              \u001b[2m               \u001b[0m\n",
       "\u001b[2;36m                    \u001b[0m         `_get_datasets`, `add`,` list`, `add_feed_dict`, and `shallow_copy`    \u001b[2m               \u001b[0m\n",
       "\u001b[2;36m                    \u001b[0m         methods. These will be removed or replaced with updated alternatives   \u001b[2m               \u001b[0m\n",
       "\u001b[2;36m                    \u001b[0m         in Kedro \u001b[1;36m1.0\u001b[0m.\u001b[1;36m0\u001b[0m. For more details, refer to the documentation:          \u001b[2m               \u001b[0m\n",
       "\u001b[2;36m                    \u001b[0m         \u001b[4;94mhttps://docs.kedro.org/en/stable/data/index.html#kedrodatacatalog-expe\u001b[0m \u001b[2m               \u001b[0m\n",
       "\u001b[2;36m                    \u001b[0m         \u001b[4;94mrimental-feature\u001b[0m                                                       \u001b[2m               \u001b[0m\n",
       "\u001b[2;36m                    \u001b[0m           \u001b[1;35mwarnings.warn\u001b[0m\u001b[1m(\u001b[0m                                                       \u001b[2m               \u001b[0m\n",
       "\u001b[2;36m                    \u001b[0m                                                                                \u001b[2m               \u001b[0m\n"
      ]
     },
     "metadata": {},
     "output_type": "display_data"
    },
    {
     "data": {
      "text/html": [
       "<pre style=\"white-space:pre;overflow-x:auto;line-height:normal;font-family:Menlo,'DejaVu Sans Mono',consolas,'Courier New',monospace\"><span style=\"color: #7fbfbf; text-decoration-color: #7fbfbf\">[06/17/25 14:44:17] </span><span style=\"color: #000080; text-decoration-color: #000080\">INFO    </span> Registering new custom resolver: <span style=\"color: #008000; text-decoration-color: #008000\">'km.random_name'</span>                    <a href=\"file://c:\\Users\\35191\\anaconda3\\anaconda\\envs\\Machine_Learning_Operations\\Lib\\site-packages\\kedro_mlflow\\framework\\hooks\\mlflow_hook.py\" target=\"_blank\"><span style=\"color: #7f7f7f; text-decoration-color: #7f7f7f\">mlflow_hook.py</span></a><span style=\"color: #7f7f7f; text-decoration-color: #7f7f7f\">:</span><a href=\"file://c:\\Users\\35191\\anaconda3\\anaconda\\envs\\Machine_Learning_Operations\\Lib\\site-packages\\kedro_mlflow\\framework\\hooks\\mlflow_hook.py#65\" target=\"_blank\"><span style=\"color: #7f7f7f; text-decoration-color: #7f7f7f\">65</span></a>\n",
       "</pre>\n"
      ],
      "text/plain": [
       "\u001b[2;36m[06/17/25 14:44:17]\u001b[0m\u001b[2;36m \u001b[0m\u001b[34mINFO    \u001b[0m Registering new custom resolver: \u001b[32m'km.random_name'\u001b[0m                    \u001b]8;id=638685;file://c:\\Users\\35191\\anaconda3\\anaconda\\envs\\Machine_Learning_Operations\\Lib\\site-packages\\kedro_mlflow\\framework\\hooks\\mlflow_hook.py\u001b\\\u001b[2mmlflow_hook.py\u001b[0m\u001b]8;;\u001b\\\u001b[2m:\u001b[0m\u001b]8;id=617230;file://c:\\Users\\35191\\anaconda3\\anaconda\\envs\\Machine_Learning_Operations\\Lib\\site-packages\\kedro_mlflow\\framework\\hooks\\mlflow_hook.py#65\u001b\\\u001b[2m65\u001b[0m\u001b]8;;\u001b\\\n"
      ]
     },
     "metadata": {},
     "output_type": "display_data"
    },
    {
     "data": {
      "text/html": [
       "<pre style=\"white-space:pre;overflow-x:auto;line-height:normal;font-family:Menlo,'DejaVu Sans Mono',consolas,'Courier New',monospace\"><span style=\"color: #7fbfbf; text-decoration-color: #7fbfbf\">                    </span><span style=\"color: #808000; text-decoration-color: #808000\">WARNING </span> No <span style=\"color: #008000; text-decoration-color: #008000\">'mlflow.yml'</span> config file found in environment. Default            <a href=\"file://c:\\Users\\35191\\anaconda3\\anaconda\\envs\\Machine_Learning_Operations\\Lib\\site-packages\\kedro_mlflow\\framework\\hooks\\mlflow_hook.py\" target=\"_blank\"><span style=\"color: #7f7f7f; text-decoration-color: #7f7f7f\">mlflow_hook.py</span></a><span style=\"color: #7f7f7f; text-decoration-color: #7f7f7f\">:</span><a href=\"file://c:\\Users\\35191\\anaconda3\\anaconda\\envs\\Machine_Learning_Operations\\Lib\\site-packages\\kedro_mlflow\\framework\\hooks\\mlflow_hook.py#78\" target=\"_blank\"><span style=\"color: #7f7f7f; text-decoration-color: #7f7f7f\">78</span></a>\n",
       "<span style=\"color: #7fbfbf; text-decoration-color: #7fbfbf\">                    </span>         configuration will be used. Use ``kedro mlflow init`` command in CLI <span style=\"color: #7f7f7f; text-decoration-color: #7f7f7f\">                 </span>\n",
       "<span style=\"color: #7fbfbf; text-decoration-color: #7fbfbf\">                    </span>         to customize the configuration.                                      <span style=\"color: #7f7f7f; text-decoration-color: #7f7f7f\">                 </span>\n",
       "</pre>\n"
      ],
      "text/plain": [
       "\u001b[2;36m                   \u001b[0m\u001b[2;36m \u001b[0m\u001b[33mWARNING \u001b[0m No \u001b[32m'mlflow.yml'\u001b[0m config file found in environment. Default            \u001b]8;id=667549;file://c:\\Users\\35191\\anaconda3\\anaconda\\envs\\Machine_Learning_Operations\\Lib\\site-packages\\kedro_mlflow\\framework\\hooks\\mlflow_hook.py\u001b\\\u001b[2mmlflow_hook.py\u001b[0m\u001b]8;;\u001b\\\u001b[2m:\u001b[0m\u001b]8;id=248211;file://c:\\Users\\35191\\anaconda3\\anaconda\\envs\\Machine_Learning_Operations\\Lib\\site-packages\\kedro_mlflow\\framework\\hooks\\mlflow_hook.py#78\u001b\\\u001b[2m78\u001b[0m\u001b]8;;\u001b\\\n",
       "\u001b[2;36m                    \u001b[0m         configuration will be used. Use ``kedro mlflow init`` command in CLI \u001b[2m                 \u001b[0m\n",
       "\u001b[2;36m                    \u001b[0m         to customize the configuration.                                      \u001b[2m                 \u001b[0m\n"
      ]
     },
     "metadata": {},
     "output_type": "display_data"
    },
    {
     "data": {
      "text/html": [
       "<pre style=\"white-space:pre;overflow-x:auto;line-height:normal;font-family:Menlo,'DejaVu Sans Mono',consolas,'Courier New',monospace\"><span style=\"color: #7fbfbf; text-decoration-color: #7fbfbf\">                    </span><span style=\"color: #808000; text-decoration-color: #808000\">WARNING </span> c:\\Users\\<span style=\"color: #008080; text-decoration-color: #008080; font-weight: bold\">35191</span>\\anaconda3\\anaconda\\envs\\Machine_Learning_Operations\\Lib <a href=\"file://c:\\Users\\35191\\anaconda3\\anaconda\\envs\\Machine_Learning_Operations\\Lib\\warnings.py\" target=\"_blank\"><span style=\"color: #7f7f7f; text-decoration-color: #7f7f7f\">warnings.py</span></a><span style=\"color: #7f7f7f; text-decoration-color: #7f7f7f\">:</span><a href=\"file://c:\\Users\\35191\\anaconda3\\anaconda\\envs\\Machine_Learning_Operations\\Lib\\warnings.py#110\" target=\"_blank\"><span style=\"color: #7f7f7f; text-decoration-color: #7f7f7f\">110</span></a>\n",
       "<span style=\"color: #7fbfbf; text-decoration-color: #7fbfbf\">                    </span>         \\site-packages\\kedro\\io\\core.py:<span style=\"color: #008080; text-decoration-color: #008080; font-weight: bold\">355</span>: KedroDeprecationWarning: The      <span style=\"color: #7f7f7f; text-decoration-color: #7f7f7f\">               </span>\n",
       "<span style=\"color: #7fbfbf; text-decoration-color: #7fbfbf\">                    </span>         MatplotlibWriter class has been renamed to MatplotlibDataset. The      <span style=\"color: #7f7f7f; text-decoration-color: #7f7f7f\">               </span>\n",
       "<span style=\"color: #7fbfbf; text-decoration-color: #7fbfbf\">                    </span>         MatplotlibWriter name is deprecated and will be removed in a future    <span style=\"color: #7f7f7f; text-decoration-color: #7f7f7f\">               </span>\n",
       "<span style=\"color: #7fbfbf; text-decoration-color: #7fbfbf\">                    </span>         release.                                                               <span style=\"color: #7f7f7f; text-decoration-color: #7f7f7f\">               </span>\n",
       "<span style=\"color: #7fbfbf; text-decoration-color: #7fbfbf\">                    </span>           <span style=\"color: #800080; text-decoration-color: #800080; font-weight: bold\">init_func</span><span style=\"font-weight: bold\">(</span>self, *args, **kwargs<span style=\"font-weight: bold\">)</span>                                     <span style=\"color: #7f7f7f; text-decoration-color: #7f7f7f\">               </span>\n",
       "<span style=\"color: #7fbfbf; text-decoration-color: #7fbfbf\">                    </span>                                                                                <span style=\"color: #7f7f7f; text-decoration-color: #7f7f7f\">               </span>\n",
       "</pre>\n"
      ],
      "text/plain": [
       "\u001b[2;36m                   \u001b[0m\u001b[2;36m \u001b[0m\u001b[33mWARNING \u001b[0m c:\\Users\\\u001b[1;36m35191\u001b[0m\\anaconda3\\anaconda\\envs\\Machine_Learning_Operations\\Lib \u001b]8;id=808287;file://c:\\Users\\35191\\anaconda3\\anaconda\\envs\\Machine_Learning_Operations\\Lib\\warnings.py\u001b\\\u001b[2mwarnings.py\u001b[0m\u001b]8;;\u001b\\\u001b[2m:\u001b[0m\u001b]8;id=154484;file://c:\\Users\\35191\\anaconda3\\anaconda\\envs\\Machine_Learning_Operations\\Lib\\warnings.py#110\u001b\\\u001b[2m110\u001b[0m\u001b]8;;\u001b\\\n",
       "\u001b[2;36m                    \u001b[0m         \\site-packages\\kedro\\io\\core.py:\u001b[1;36m355\u001b[0m: KedroDeprecationWarning: The      \u001b[2m               \u001b[0m\n",
       "\u001b[2;36m                    \u001b[0m         MatplotlibWriter class has been renamed to MatplotlibDataset. The      \u001b[2m               \u001b[0m\n",
       "\u001b[2;36m                    \u001b[0m         MatplotlibWriter name is deprecated and will be removed in a future    \u001b[2m               \u001b[0m\n",
       "\u001b[2;36m                    \u001b[0m         release.                                                               \u001b[2m               \u001b[0m\n",
       "\u001b[2;36m                    \u001b[0m           \u001b[1;35minit_func\u001b[0m\u001b[1m(\u001b[0mself, *args, **kwargs\u001b[1m)\u001b[0m                                     \u001b[2m               \u001b[0m\n",
       "\u001b[2;36m                    \u001b[0m                                                                                \u001b[2m               \u001b[0m\n"
      ]
     },
     "metadata": {},
     "output_type": "display_data"
    },
    {
     "data": {
      "text/html": [
       "<pre style=\"white-space:pre;overflow-x:auto;line-height:normal;font-family:Menlo,'DejaVu Sans Mono',consolas,'Courier New',monospace\"><span style=\"color: #7fbfbf; text-decoration-color: #7fbfbf\">                    </span><span style=\"color: #000080; text-decoration-color: #000080\">INFO    </span> Kedro is sending anonymous usage data with the sole purpose of improving <a href=\"file://c:\\Users\\35191\\anaconda3\\anaconda\\envs\\Machine_Learning_Operations\\Lib\\site-packages\\kedro_telemetry\\plugin.py\" target=\"_blank\"><span style=\"color: #7f7f7f; text-decoration-color: #7f7f7f\">plugin.py</span></a><span style=\"color: #7f7f7f; text-decoration-color: #7f7f7f\">:</span><a href=\"file://c:\\Users\\35191\\anaconda3\\anaconda\\envs\\Machine_Learning_Operations\\Lib\\site-packages\\kedro_telemetry\\plugin.py#233\" target=\"_blank\"><span style=\"color: #7f7f7f; text-decoration-color: #7f7f7f\">233</span></a>\n",
       "<span style=\"color: #7fbfbf; text-decoration-color: #7fbfbf\">                    </span>         the product. No personal data or IP addresses are stored on our side. If <span style=\"color: #7f7f7f; text-decoration-color: #7f7f7f\">             </span>\n",
       "<span style=\"color: #7fbfbf; text-decoration-color: #7fbfbf\">                    </span>         you want to opt out, set the `KEDRO_DISABLE_TELEMETRY` or `DO_NOT_TRACK` <span style=\"color: #7f7f7f; text-decoration-color: #7f7f7f\">             </span>\n",
       "<span style=\"color: #7fbfbf; text-decoration-color: #7fbfbf\">                    </span>         environment variables, or create a `.telemetry` file in the current      <span style=\"color: #7f7f7f; text-decoration-color: #7f7f7f\">             </span>\n",
       "<span style=\"color: #7fbfbf; text-decoration-color: #7fbfbf\">                    </span>         working directory with the contents `consent: false`. Read more at       <span style=\"color: #7f7f7f; text-decoration-color: #7f7f7f\">             </span>\n",
       "<span style=\"color: #7fbfbf; text-decoration-color: #7fbfbf\">                    </span>         <span style=\"color: #0000ff; text-decoration-color: #0000ff; text-decoration: underline\">https://docs.kedro.org/en/stable/configuration/telemetry.html</span>            <span style=\"color: #7f7f7f; text-decoration-color: #7f7f7f\">             </span>\n",
       "</pre>\n"
      ],
      "text/plain": [
       "\u001b[2;36m                   \u001b[0m\u001b[2;36m \u001b[0m\u001b[34mINFO    \u001b[0m Kedro is sending anonymous usage data with the sole purpose of improving \u001b]8;id=484054;file://c:\\Users\\35191\\anaconda3\\anaconda\\envs\\Machine_Learning_Operations\\Lib\\site-packages\\kedro_telemetry\\plugin.py\u001b\\\u001b[2mplugin.py\u001b[0m\u001b]8;;\u001b\\\u001b[2m:\u001b[0m\u001b]8;id=971220;file://c:\\Users\\35191\\anaconda3\\anaconda\\envs\\Machine_Learning_Operations\\Lib\\site-packages\\kedro_telemetry\\plugin.py#233\u001b\\\u001b[2m233\u001b[0m\u001b]8;;\u001b\\\n",
       "\u001b[2;36m                    \u001b[0m         the product. No personal data or IP addresses are stored on our side. If \u001b[2m             \u001b[0m\n",
       "\u001b[2;36m                    \u001b[0m         you want to opt out, set the `KEDRO_DISABLE_TELEMETRY` or `DO_NOT_TRACK` \u001b[2m             \u001b[0m\n",
       "\u001b[2;36m                    \u001b[0m         environment variables, or create a `.telemetry` file in the current      \u001b[2m             \u001b[0m\n",
       "\u001b[2;36m                    \u001b[0m         working directory with the contents `consent: false`. Read more at       \u001b[2m             \u001b[0m\n",
       "\u001b[2;36m                    \u001b[0m         \u001b[4;94mhttps://docs.kedro.org/en/stable/configuration/telemetry.html\u001b[0m            \u001b[2m             \u001b[0m\n"
      ]
     },
     "metadata": {},
     "output_type": "display_data"
    },
    {
     "data": {
      "text/html": [
       "<pre style=\"white-space:pre;overflow-x:auto;line-height:normal;font-family:Menlo,'DejaVu Sans Mono',consolas,'Courier New',monospace\"><span style=\"color: #7fbfbf; text-decoration-color: #7fbfbf\">[06/17/25 14:44:18] </span><span style=\"color: #000080; text-decoration-color: #000080\">INFO    </span> Loading data from <span style=\"color: #ff8700; text-decoration-color: #ff8700\">loans</span> <span style=\"font-weight: bold\">(</span>CSVDataset<span style=\"font-weight: bold\">)</span><span style=\"color: #808000; text-decoration-color: #808000\">...</span>                            <a href=\"file://c:\\Users\\35191\\anaconda3\\anaconda\\envs\\Machine_Learning_Operations\\Lib\\site-packages\\kedro\\io\\data_catalog.py\" target=\"_blank\"><span style=\"color: #7f7f7f; text-decoration-color: #7f7f7f\">data_catalog.py</span></a><span style=\"color: #7f7f7f; text-decoration-color: #7f7f7f\">:</span><a href=\"file://c:\\Users\\35191\\anaconda3\\anaconda\\envs\\Machine_Learning_Operations\\Lib\\site-packages\\kedro\\io\\data_catalog.py#401\" target=\"_blank\"><span style=\"color: #7f7f7f; text-decoration-color: #7f7f7f\">401</span></a>\n",
       "</pre>\n"
      ],
      "text/plain": [
       "\u001b[2;36m[06/17/25 14:44:18]\u001b[0m\u001b[2;36m \u001b[0m\u001b[34mINFO    \u001b[0m Loading data from \u001b[38;5;208mloans\u001b[0m \u001b[1m(\u001b[0mCSVDataset\u001b[1m)\u001b[0m\u001b[33m...\u001b[0m                            \u001b]8;id=853116;file://c:\\Users\\35191\\anaconda3\\anaconda\\envs\\Machine_Learning_Operations\\Lib\\site-packages\\kedro\\io\\data_catalog.py\u001b\\\u001b[2mdata_catalog.py\u001b[0m\u001b]8;;\u001b\\\u001b[2m:\u001b[0m\u001b]8;id=797818;file://c:\\Users\\35191\\anaconda3\\anaconda\\envs\\Machine_Learning_Operations\\Lib\\site-packages\\kedro\\io\\data_catalog.py#401\u001b\\\u001b[2m401\u001b[0m\u001b]8;;\u001b\\\n"
      ]
     },
     "metadata": {},
     "output_type": "display_data"
    }
   ],
   "source": [
    "from pathlib import Path\n",
    "from kedro.framework.session import KedroSession\n",
    "from kedro.framework.startup import bootstrap_project\n",
    "import matplotlib.pyplot as plt\n",
    "import numpy as np\n",
    "import seaborn as sns\n",
    "import great_expectations as gx\n",
    "from great_expectations.profile.user_configurable_profiler import UserConfigurableProfiler\n",
    "from great_expectations.data_context import DataContext\n",
    "from great_expectations.core.expectation_configuration import ExpectationConfiguration\n",
    "\n",
    "# Get the project root (2 levels up from this script)\n",
    "project_path = Path.cwd().parents[1]\n",
    "\n",
    "# Bootstrap project (loads pyproject.toml and settings)\n",
    "bootstrap_project(project_path)\n",
    "\n",
    "# Create Kedro session for your project\n",
    "session = KedroSession.create()\n",
    "\n",
    "# Load the Kedro context (access pipelines, catalog, etc.)\n",
    "context = session.load_context()\n",
    "\n",
    "# Now you can load your dataset from the catalog:\n",
    "df = context.catalog.load(\"loans\")"
   ]
  },
  {
   "cell_type": "code",
   "execution_count": 64,
   "id": "81dec8e4",
   "metadata": {},
   "outputs": [],
   "source": [
    "df.columns = df.columns.str.strip()\n",
    "\n",
    "# Split 70% for reference, 30% for analysis\n",
    "df_ref = df.sample(frac=0.7, random_state=42)\n",
    "df_ana = df.drop(df_ref.index)"
   ]
  },
  {
   "cell_type": "code",
   "execution_count": 65,
   "id": "de079f2a",
   "metadata": {},
   "outputs": [],
   "source": [
    "context = gx.get_context(context_root_dir = \"gx\")"
   ]
  },
  {
   "cell_type": "code",
   "execution_count": 66,
   "id": "825886fd",
   "metadata": {},
   "outputs": [
    {
     "name": "stdout",
     "output_type": "stream",
     "text": [
      "Data Source already exists.\n"
     ]
    }
   ],
   "source": [
    "# Register a pandas-based datasource\n",
    "datasource_name = \"example\" \n",
    "try:\n",
    "    datasource = context.sources.add_pandas(datasource_name)\n",
    "except:\n",
    "    print(\"Data Source already exists.\")\n",
    "    datasource = context.datasources[datasource_name]"
   ]
  },
  {
   "cell_type": "code",
   "execution_count": 67,
   "id": "99ae6b0b",
   "metadata": {},
   "outputs": [
    {
     "data": {
      "text/html": [
       "<pre style=\"white-space:pre;overflow-x:auto;line-height:normal;font-family:Menlo,'DejaVu Sans Mono',consolas,'Courier New',monospace\"></pre>\n"
      ],
      "text/plain": []
     },
     "metadata": {},
     "output_type": "display_data"
    },
    {
     "data": {
      "text/plain": [
       "\n",
       "\u001b[1m{\u001b[0m\n",
       "  \u001b[32m\"anonymous_usage_statistics\"\u001b[0m: \u001b[1m{\u001b[0m\n",
       "    \u001b[32m\"explicit_id\"\u001b[0m: true,\n",
       "    \u001b[32m\"explicit_url\"\u001b[0m: false,\n",
       "    \u001b[32m\"usage_statistics_url\"\u001b[0m: \u001b[32m\"https://stats.greatexpectations.io/great_expectations/v1/usage_statistics\"\u001b[0m,\n",
       "    \u001b[32m\"enabled\"\u001b[0m: true,\n",
       "    \u001b[32m\"data_context_id\"\u001b[0m: \u001b[32m\"62b31bc3-528b-4a42-8087-dddee0817143\"\u001b[0m\n",
       "  \u001b[1m}\u001b[0m,\n",
       "  \u001b[32m\"checkpoint_store_name\"\u001b[0m: \u001b[32m\"checkpoint_store\"\u001b[0m,\n",
       "  \u001b[32m\"config_variables_file_path\"\u001b[0m: \u001b[32m\"uncommitted/config_variables.yml\"\u001b[0m,\n",
       "  \u001b[32m\"config_version\"\u001b[0m: \u001b[1;36m3.0\u001b[0m,\n",
       "  \u001b[32m\"data_docs_sites\"\u001b[0m: \u001b[1m{\u001b[0m\n",
       "    \u001b[32m\"local_site\"\u001b[0m: \u001b[1m{\u001b[0m\n",
       "      \u001b[32m\"class_name\"\u001b[0m: \u001b[32m\"SiteBuilder\"\u001b[0m,\n",
       "      \u001b[32m\"show_how_to_buttons\"\u001b[0m: true,\n",
       "      \u001b[32m\"store_backend\"\u001b[0m: \u001b[1m{\u001b[0m\n",
       "        \u001b[32m\"class_name\"\u001b[0m: \u001b[32m\"TupleFilesystemStoreBackend\"\u001b[0m,\n",
       "        \u001b[32m\"base_directory\"\u001b[0m: \u001b[32m\"uncommitted/data_docs/local_site/\"\u001b[0m\n",
       "      \u001b[1m}\u001b[0m,\n",
       "      \u001b[32m\"site_index_builder\"\u001b[0m: \u001b[1m{\u001b[0m\n",
       "        \u001b[32m\"class_name\"\u001b[0m: \u001b[32m\"DefaultSiteIndexBuilder\"\u001b[0m\n",
       "      \u001b[1m}\u001b[0m\n",
       "    \u001b[1m}\u001b[0m\n",
       "  \u001b[1m}\u001b[0m,\n",
       "  \u001b[32m\"datasources\"\u001b[0m: \u001b[1m{\u001b[0m\u001b[1m}\u001b[0m,\n",
       "  \u001b[32m\"evaluation_parameter_store_name\"\u001b[0m: \u001b[32m\"evaluation_parameter_store\"\u001b[0m,\n",
       "  \u001b[32m\"expectations_store_name\"\u001b[0m: \u001b[32m\"expectations_store\"\u001b[0m,\n",
       "  \u001b[32m\"fluent_datasources\"\u001b[0m: \u001b[1m{\u001b[0m\n",
       "    \u001b[32m\"example\"\u001b[0m: \u001b[1m{\u001b[0m\n",
       "      \u001b[32m\"type\"\u001b[0m: \u001b[32m\"pandas\"\u001b[0m\n",
       "    \u001b[1m}\u001b[0m\n",
       "  \u001b[1m}\u001b[0m,\n",
       "  \u001b[32m\"include_rendered_content\"\u001b[0m: \u001b[1m{\u001b[0m\n",
       "    \u001b[32m\"expectation_validation_result\"\u001b[0m: false,\n",
       "    \u001b[32m\"globally\"\u001b[0m: false,\n",
       "    \u001b[32m\"expectation_suite\"\u001b[0m: false\n",
       "  \u001b[1m}\u001b[0m,\n",
       "  \u001b[32m\"plugins_directory\"\u001b[0m: \u001b[32m\"plugins/\"\u001b[0m,\n",
       "  \u001b[32m\"stores\"\u001b[0m: \u001b[1m{\u001b[0m\n",
       "    \u001b[32m\"expectations_store\"\u001b[0m: \u001b[1m{\u001b[0m\n",
       "      \u001b[32m\"class_name\"\u001b[0m: \u001b[32m\"ExpectationsStore\"\u001b[0m,\n",
       "      \u001b[32m\"store_backend\"\u001b[0m: \u001b[1m{\u001b[0m\n",
       "        \u001b[32m\"class_name\"\u001b[0m: \u001b[32m\"TupleFilesystemStoreBackend\"\u001b[0m,\n",
       "        \u001b[32m\"base_directory\"\u001b[0m: \u001b[32m\"expectations/\"\u001b[0m\n",
       "      \u001b[1m}\u001b[0m\n",
       "    \u001b[1m}\u001b[0m,\n",
       "    \u001b[32m\"validations_store\"\u001b[0m: \u001b[1m{\u001b[0m\n",
       "      \u001b[32m\"class_name\"\u001b[0m: \u001b[32m\"ValidationsStore\"\u001b[0m,\n",
       "      \u001b[32m\"store_backend\"\u001b[0m: \u001b[1m{\u001b[0m\n",
       "        \u001b[32m\"class_name\"\u001b[0m: \u001b[32m\"TupleFilesystemStoreBackend\"\u001b[0m,\n",
       "        \u001b[32m\"base_directory\"\u001b[0m: \u001b[32m\"uncommitted/validations/\"\u001b[0m\n",
       "      \u001b[1m}\u001b[0m\n",
       "    \u001b[1m}\u001b[0m,\n",
       "    \u001b[32m\"evaluation_parameter_store\"\u001b[0m: \u001b[1m{\u001b[0m\n",
       "      \u001b[32m\"class_name\"\u001b[0m: \u001b[32m\"EvaluationParameterStore\"\u001b[0m\n",
       "    \u001b[1m}\u001b[0m,\n",
       "    \u001b[32m\"checkpoint_store\"\u001b[0m: \u001b[1m{\u001b[0m\n",
       "      \u001b[32m\"class_name\"\u001b[0m: \u001b[32m\"CheckpointStore\"\u001b[0m,\n",
       "      \u001b[32m\"store_backend\"\u001b[0m: \u001b[1m{\u001b[0m\n",
       "        \u001b[32m\"class_name\"\u001b[0m: \u001b[32m\"TupleFilesystemStoreBackend\"\u001b[0m,\n",
       "        \u001b[32m\"suppress_store_backend_id\"\u001b[0m: true,\n",
       "        \u001b[32m\"base_directory\"\u001b[0m: \u001b[32m\"checkpoints/\"\u001b[0m\n",
       "      \u001b[1m}\u001b[0m\n",
       "    \u001b[1m}\u001b[0m,\n",
       "    \u001b[32m\"profiler_store\"\u001b[0m: \u001b[1m{\u001b[0m\n",
       "      \u001b[32m\"class_name\"\u001b[0m: \u001b[32m\"ProfilerStore\"\u001b[0m,\n",
       "      \u001b[32m\"store_backend\"\u001b[0m: \u001b[1m{\u001b[0m\n",
       "        \u001b[32m\"class_name\"\u001b[0m: \u001b[32m\"TupleFilesystemStoreBackend\"\u001b[0m,\n",
       "        \u001b[32m\"suppress_store_backend_id\"\u001b[0m: true,\n",
       "        \u001b[32m\"base_directory\"\u001b[0m: \u001b[32m\"profilers/\"\u001b[0m\n",
       "      \u001b[1m}\u001b[0m\n",
       "    \u001b[1m}\u001b[0m\n",
       "  \u001b[1m}\u001b[0m,\n",
       "  \u001b[32m\"validations_store_name\"\u001b[0m: \u001b[32m\"validations_store\"\u001b[0m\n",
       "\u001b[1m}\u001b[0m"
      ]
     },
     "execution_count": 67,
     "metadata": {},
     "output_type": "execute_result"
    }
   ],
   "source": [
    "context"
   ]
  },
  {
   "cell_type": "code",
   "execution_count": 68,
   "id": "38652795",
   "metadata": {},
   "outputs": [
    {
     "name": "stdout",
     "output_type": "stream",
     "text": [
      "data source [{'type': 'pandas', 'name': 'example'}]\n"
     ]
    }
   ],
   "source": [
    "print(\"data source\", context.list_datasources())"
   ]
  },
  {
   "cell_type": "code",
   "execution_count": 69,
   "id": "e83110ef",
   "metadata": {},
   "outputs": [
    {
     "name": "stdout",
     "output_type": "stream",
     "text": [
      "name: example\n",
      "type: pandas\n",
      "\n"
     ]
    }
   ],
   "source": [
    "print(datasource)"
   ]
  },
  {
   "cell_type": "code",
   "execution_count": 70,
   "id": "85744970",
   "metadata": {},
   "outputs": [],
   "source": [
    "suite_bank = context.add_or_update_expectation_suite(expectation_suite_name=\"example_suite\")"
   ]
  },
  {
   "cell_type": "code",
   "execution_count": 71,
   "id": "05399943",
   "metadata": {},
   "outputs": [
    {
     "data": {
      "text/html": [
       "<pre style=\"white-space:pre;overflow-x:auto;line-height:normal;font-family:Menlo,'DejaVu Sans Mono',consolas,'Courier New',monospace\"></pre>\n"
      ],
      "text/plain": []
     },
     "metadata": {},
     "output_type": "display_data"
    },
    {
     "data": {
      "text/plain": [
       "\n",
       "\u001b[1m{\u001b[0m\n",
       "  \u001b[32m\"expectation_suite_name\"\u001b[0m: \u001b[32m\"example_suite\"\u001b[0m,\n",
       "  \u001b[32m\"ge_cloud_id\"\u001b[0m: null,\n",
       "  \u001b[32m\"expectations\"\u001b[0m: \u001b[1m[\u001b[0m\u001b[1m]\u001b[0m,\n",
       "  \u001b[32m\"data_asset_type\"\u001b[0m: null,\n",
       "  \u001b[32m\"meta\"\u001b[0m: \u001b[1m{\u001b[0m\n",
       "    \u001b[32m\"great_expectations_version\"\u001b[0m: \u001b[32m\"0.18.12\"\u001b[0m\n",
       "  \u001b[1m}\u001b[0m\n",
       "\u001b[1m}\u001b[0m"
      ]
     },
     "execution_count": 71,
     "metadata": {},
     "output_type": "execute_result"
    }
   ],
   "source": [
    "suite_bank"
   ]
  },
  {
   "cell_type": "code",
   "execution_count": 72,
   "id": "7b03d94e",
   "metadata": {},
   "outputs": [
    {
     "data": {
      "text/html": [
       "<pre style=\"white-space:pre;overflow-x:auto;line-height:normal;font-family:Menlo,'DejaVu Sans Mono',consolas,'Courier New',monospace\"></pre>\n"
      ],
      "text/plain": []
     },
     "metadata": {},
     "output_type": "display_data"
    },
    {
     "data": {
      "text/plain": [
       "\n",
       "\u001b[1;35mIndex\u001b[0m\u001b[1m(\u001b[0m\u001b[1m[\u001b[0m\u001b[32m'loan_id'\u001b[0m, \u001b[32m'no_of_dependents'\u001b[0m, \u001b[32m'education'\u001b[0m, \u001b[32m'self_employed'\u001b[0m,\n",
       "       \u001b[32m'income_annum'\u001b[0m, \u001b[32m'loan_amount'\u001b[0m, \u001b[32m'loan_term'\u001b[0m, \u001b[32m'cibil_score'\u001b[0m,\n",
       "       \u001b[32m'residential_assets_value'\u001b[0m, \u001b[32m'commercial_assets_value'\u001b[0m,\n",
       "       \u001b[32m'luxury_assets_value'\u001b[0m, \u001b[32m'bank_asset_value'\u001b[0m, \u001b[32m'loan_status'\u001b[0m\u001b[1m]\u001b[0m,\n",
       "      \u001b[33mdtype\u001b[0m=\u001b[32m'object'\u001b[0m\u001b[1m)\u001b[0m"
      ]
     },
     "execution_count": 72,
     "metadata": {},
     "output_type": "execute_result"
    }
   ],
   "source": [
    "df_ref.columns"
   ]
  },
  {
   "cell_type": "code",
   "execution_count": 73,
   "id": "f2c6f680",
   "metadata": {},
   "outputs": [
    {
     "data": {
      "text/html": [
       "<pre style=\"white-space:pre;overflow-x:auto;line-height:normal;font-family:Menlo,'DejaVu Sans Mono',consolas,'Courier New',monospace\"></pre>\n"
      ],
      "text/plain": []
     },
     "metadata": {},
     "output_type": "display_data"
    },
    {
     "data": {
      "text/plain": [
       "\n",
       "count          \u001b[1;36m2988\u001b[0m\n",
       "unique            \u001b[1;36m2\u001b[0m\n",
       "top        Graduate\n",
       "freq           \u001b[1;36m1498\u001b[0m\n",
       "Name: education, dtype: object"
      ]
     },
     "execution_count": 73,
     "metadata": {},
     "output_type": "execute_result"
    }
   ],
   "source": [
    "df_ref[\"education\"].describe()"
   ]
  },
  {
   "cell_type": "code",
   "execution_count": 74,
   "id": "10c16e1f",
   "metadata": {},
   "outputs": [
    {
     "data": {
      "text/html": [
       "<pre style=\"white-space:pre;overflow-x:auto;line-height:normal;font-family:Menlo,'DejaVu Sans Mono',consolas,'Courier New',monospace\"></pre>\n"
      ],
      "text/plain": []
     },
     "metadata": {},
     "output_type": "display_data"
    },
    {
     "data": {
      "text/plain": [
       "\u001b[1;35marray\u001b[0m\u001b[1m(\u001b[0m\u001b[1m[\u001b[0m\u001b[32m' Graduate'\u001b[0m, \u001b[32m' Not Graduate'\u001b[0m\u001b[1m]\u001b[0m, \u001b[33mdtype\u001b[0m=\u001b[35mobject\u001b[0m\u001b[1m)\u001b[0m"
      ]
     },
     "execution_count": 74,
     "metadata": {},
     "output_type": "execute_result"
    }
   ],
   "source": [
    "df_ref[\"education\"].unique()"
   ]
  },
  {
   "cell_type": "code",
   "execution_count": 75,
   "id": "f1f211bd",
   "metadata": {},
   "outputs": [
    {
     "data": {
      "text/html": [
       "<pre style=\"white-space:pre;overflow-x:auto;line-height:normal;font-family:Menlo,'DejaVu Sans Mono',consolas,'Courier New',monospace\"></pre>\n"
      ],
      "text/plain": []
     },
     "metadata": {},
     "output_type": "display_data"
    },
    {
     "data": {
      "text/plain": [
       "\u001b[1;35marray\u001b[0m\u001b[1m(\u001b[0m\u001b[1m[\u001b[0m\u001b[32m'Graduate'\u001b[0m, \u001b[32m'Not Graduate'\u001b[0m\u001b[1m]\u001b[0m, \u001b[33mdtype\u001b[0m=\u001b[35mobject\u001b[0m\u001b[1m)\u001b[0m"
      ]
     },
     "execution_count": 75,
     "metadata": {},
     "output_type": "execute_result"
    }
   ],
   "source": [
    "df_ref['education'] = df_ref['education'].str.strip()\n",
    "df_ref[\"education\"].unique()"
   ]
  },
  {
   "cell_type": "code",
   "execution_count": 76,
   "id": "4c7a5147",
   "metadata": {},
   "outputs": [
    {
     "data": {
      "text/html": [
       "<pre style=\"white-space:pre;overflow-x:auto;line-height:normal;font-family:Menlo,'DejaVu Sans Mono',consolas,'Courier New',monospace\"></pre>\n"
      ],
      "text/plain": []
     },
     "metadata": {},
     "output_type": "display_data"
    },
    {
     "data": {
      "text/plain": [
       "\u001b[1m{\u001b[0m\u001b[32m\"expectation_type\"\u001b[0m: \u001b[32m\"expect_column_distinct_values_to_be_in_set\"\u001b[0m, \u001b[32m\"kwargs\"\u001b[0m: \u001b[1m{\u001b[0m\u001b[32m\"column\"\u001b[0m: \u001b[32m\"education\"\u001b[0m, \u001b[32m\"value_set\"\u001b[0m: \u001b[1m[\u001b[0m\u001b[32m\"Graduate\"\u001b[0m, \u001b[32m\"Not Graduate\"\u001b[0m\u001b[1m]\u001b[0m\u001b[1m}\u001b[0m, \u001b[32m\"meta\"\u001b[0m: \u001b[1m{\u001b[0m\u001b[1m}\u001b[0m\u001b[1m}\u001b[0m"
      ]
     },
     "execution_count": 76,
     "metadata": {},
     "output_type": "execute_result"
    }
   ],
   "source": [
    "expectation_education = ExpectationConfiguration(\n",
    "    expectation_type=\"expect_column_distinct_values_to_be_in_set\",\n",
    "    kwargs={\n",
    "        \"column\": \"education\",\n",
    "        \"value_set\" : ['Graduate', 'Not Graduate']\n",
    "    },\n",
    ")\n",
    "suite_bank.add_expectation(expectation_configuration=expectation_education)"
   ]
  },
  {
   "cell_type": "code",
   "execution_count": 77,
   "id": "550b9b61",
   "metadata": {},
   "outputs": [
    {
     "data": {
      "text/html": [
       "<pre style=\"white-space:pre;overflow-x:auto;line-height:normal;font-family:Menlo,'DejaVu Sans Mono',consolas,'Courier New',monospace\"></pre>\n"
      ],
      "text/plain": []
     },
     "metadata": {},
     "output_type": "display_data"
    },
    {
     "data": {
      "text/plain": [
       "\n",
       "\u001b[1m{\u001b[0m\n",
       "  \u001b[32m\"expectation_suite_name\"\u001b[0m: \u001b[32m\"example_suite\"\u001b[0m,\n",
       "  \u001b[32m\"ge_cloud_id\"\u001b[0m: null,\n",
       "  \u001b[32m\"expectations\"\u001b[0m: \u001b[1m[\u001b[0m\n",
       "    \u001b[1m{\u001b[0m\n",
       "      \u001b[32m\"expectation_type\"\u001b[0m: \u001b[32m\"expect_column_distinct_values_to_be_in_set\"\u001b[0m,\n",
       "      \u001b[32m\"kwargs\"\u001b[0m: \u001b[1m{\u001b[0m\n",
       "        \u001b[32m\"column\"\u001b[0m: \u001b[32m\"education\"\u001b[0m,\n",
       "        \u001b[32m\"value_set\"\u001b[0m: \u001b[1m[\u001b[0m\n",
       "          \u001b[32m\"Graduate\"\u001b[0m,\n",
       "          \u001b[32m\"Not Graduate\"\u001b[0m\n",
       "        \u001b[1m]\u001b[0m\n",
       "      \u001b[1m}\u001b[0m,\n",
       "      \u001b[32m\"meta\"\u001b[0m: \u001b[1m{\u001b[0m\u001b[1m}\u001b[0m\n",
       "    \u001b[1m}\u001b[0m\n",
       "  \u001b[1m]\u001b[0m,\n",
       "  \u001b[32m\"data_asset_type\"\u001b[0m: null,\n",
       "  \u001b[32m\"meta\"\u001b[0m: \u001b[1m{\u001b[0m\n",
       "    \u001b[32m\"great_expectations_version\"\u001b[0m: \u001b[32m\"0.18.12\"\u001b[0m\n",
       "  \u001b[1m}\u001b[0m\n",
       "\u001b[1m}\u001b[0m"
      ]
     },
     "execution_count": 77,
     "metadata": {},
     "output_type": "execute_result"
    }
   ],
   "source": [
    "suite_bank"
   ]
  },
  {
   "cell_type": "code",
   "execution_count": 78,
   "id": "2f43df99",
   "metadata": {},
   "outputs": [
    {
     "data": {
      "text/html": [
       "<pre style=\"white-space:pre;overflow-x:auto;line-height:normal;font-family:Menlo,'DejaVu Sans Mono',consolas,'Courier New',monospace\"></pre>\n"
      ],
      "text/plain": []
     },
     "metadata": {},
     "output_type": "display_data"
    },
    {
     "data": {
      "text/plain": [
       "\n",
       "\u001b[1m{\u001b[0m\n",
       "  \u001b[32m\"expectation_suite_name\"\u001b[0m: \u001b[32m\"example_suite\"\u001b[0m,\n",
       "  \u001b[32m\"ge_cloud_id\"\u001b[0m: null,\n",
       "  \u001b[32m\"expectations\"\u001b[0m: \u001b[1m[\u001b[0m\n",
       "    \u001b[1m{\u001b[0m\n",
       "      \u001b[32m\"expectation_type\"\u001b[0m: \u001b[32m\"expect_column_distinct_values_to_be_in_set\"\u001b[0m,\n",
       "      \u001b[32m\"kwargs\"\u001b[0m: \u001b[1m{\u001b[0m\n",
       "        \u001b[32m\"column\"\u001b[0m: \u001b[32m\"education\"\u001b[0m,\n",
       "        \u001b[32m\"value_set\"\u001b[0m: \u001b[1m[\u001b[0m\n",
       "          \u001b[32m\"Graduate\"\u001b[0m,\n",
       "          \u001b[32m\"Not Graduate\"\u001b[0m\n",
       "        \u001b[1m]\u001b[0m\n",
       "      \u001b[1m}\u001b[0m,\n",
       "      \u001b[32m\"meta\"\u001b[0m: \u001b[1m{\u001b[0m\u001b[1m}\u001b[0m\n",
       "    \u001b[1m}\u001b[0m\n",
       "  \u001b[1m]\u001b[0m,\n",
       "  \u001b[32m\"data_asset_type\"\u001b[0m: null,\n",
       "  \u001b[32m\"meta\"\u001b[0m: \u001b[1m{\u001b[0m\n",
       "    \u001b[32m\"great_expectations_version\"\u001b[0m: \u001b[32m\"0.18.12\"\u001b[0m\n",
       "  \u001b[1m}\u001b[0m\n",
       "\u001b[1m}\u001b[0m"
      ]
     },
     "execution_count": 78,
     "metadata": {},
     "output_type": "execute_result"
    }
   ],
   "source": [
    "context.add_or_update_expectation_suite(expectation_suite=suite_bank)"
   ]
  },
  {
   "cell_type": "code",
   "execution_count": null,
   "id": "44cfd216",
   "metadata": {},
   "outputs": [],
   "source": []
  }
 ],
 "metadata": {
  "kernelspec": {
   "display_name": "Python 3",
   "language": "python",
   "name": "python3"
  },
  "language_info": {
   "codemirror_mode": {
    "name": "ipython",
    "version": 3
   },
   "file_extension": ".py",
   "mimetype": "text/x-python",
   "name": "python",
   "nbconvert_exporter": "python",
   "pygments_lexer": "ipython3",
   "version": "3.11.12"
  }
 },
 "nbformat": 4,
 "nbformat_minor": 5
}
