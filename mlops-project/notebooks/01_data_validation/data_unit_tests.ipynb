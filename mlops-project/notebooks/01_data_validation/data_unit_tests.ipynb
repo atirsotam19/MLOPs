{
 "cells": [
  {
   "cell_type": "code",
   "execution_count": 6,
   "id": "0433811f",
   "metadata": {},
   "outputs": [
    {
     "data": {
      "text/html": [
       "<pre style=\"white-space:pre;overflow-x:auto;line-height:normal;font-family:Menlo,'DejaVu Sans Mono',consolas,'Courier New',monospace\"><span style=\"color: #7fbfbf; text-decoration-color: #7fbfbf\">[06/17/25 14:12:52] </span><span style=\"color: #808000; text-decoration-color: #808000\">WARNING </span> c:\\Users\\<span style=\"color: #008080; text-decoration-color: #008080; font-weight: bold\">35191</span>\\anaconda3\\anaconda\\envs\\Machine_Learning_Operations\\Lib <a href=\"file://c:\\Users\\35191\\anaconda3\\anaconda\\envs\\Machine_Learning_Operations\\Lib\\warnings.py\" target=\"_blank\"><span style=\"color: #7f7f7f; text-decoration-color: #7f7f7f\">warnings.py</span></a><span style=\"color: #7f7f7f; text-decoration-color: #7f7f7f\">:</span><a href=\"file://c:\\Users\\35191\\anaconda3\\anaconda\\envs\\Machine_Learning_Operations\\Lib\\warnings.py#110\" target=\"_blank\"><span style=\"color: #7f7f7f; text-decoration-color: #7f7f7f\">110</span></a>\n",
       "<span style=\"color: #7fbfbf; text-decoration-color: #7fbfbf\">                    </span>         \\site-packages\\kedro\\io\\data_catalog.py:<span style=\"color: #008080; text-decoration-color: #008080; font-weight: bold\">165</span>: KedroDeprecationWarning:  <span style=\"color: #7f7f7f; text-decoration-color: #7f7f7f\">               </span>\n",
       "<span style=\"color: #7fbfbf; text-decoration-color: #7fbfbf\">                    </span>         `DataCatalog` has been deprecated and will be replaced by              <span style=\"color: #7f7f7f; text-decoration-color: #7f7f7f\">               </span>\n",
       "<span style=\"color: #7fbfbf; text-decoration-color: #7fbfbf\">                    </span>         `KedroDataCatalog`, in Kedro <span style=\"color: #008080; text-decoration-color: #008080; font-weight: bold\">1.0</span>.<span style=\"color: #008080; text-decoration-color: #008080; font-weight: bold\">0.</span>Currently some `KedroDataCatalog`   <span style=\"color: #7f7f7f; text-decoration-color: #7f7f7f\">               </span>\n",
       "<span style=\"color: #7fbfbf; text-decoration-color: #7fbfbf\">                    </span>         APIs have been retained for compatibility with `DataCatalog`,          <span style=\"color: #7f7f7f; text-decoration-color: #7f7f7f\">               </span>\n",
       "<span style=\"color: #7fbfbf; text-decoration-color: #7fbfbf\">                    </span>         including the `datasets` property and the `get_datasets`,              <span style=\"color: #7f7f7f; text-decoration-color: #7f7f7f\">               </span>\n",
       "<span style=\"color: #7fbfbf; text-decoration-color: #7fbfbf\">                    </span>         `_get_datasets`, `add`,` list`, `add_feed_dict`, and `shallow_copy`    <span style=\"color: #7f7f7f; text-decoration-color: #7f7f7f\">               </span>\n",
       "<span style=\"color: #7fbfbf; text-decoration-color: #7fbfbf\">                    </span>         methods. These will be removed or replaced with updated alternatives   <span style=\"color: #7f7f7f; text-decoration-color: #7f7f7f\">               </span>\n",
       "<span style=\"color: #7fbfbf; text-decoration-color: #7fbfbf\">                    </span>         in Kedro <span style=\"color: #008080; text-decoration-color: #008080; font-weight: bold\">1.0</span>.<span style=\"color: #008080; text-decoration-color: #008080; font-weight: bold\">0</span>. For more details, refer to the documentation:          <span style=\"color: #7f7f7f; text-decoration-color: #7f7f7f\">               </span>\n",
       "<span style=\"color: #7fbfbf; text-decoration-color: #7fbfbf\">                    </span>         <span style=\"color: #0000ff; text-decoration-color: #0000ff; text-decoration: underline\">https://docs.kedro.org/en/stable/data/index.html#kedrodatacatalog-expe</span> <span style=\"color: #7f7f7f; text-decoration-color: #7f7f7f\">               </span>\n",
       "<span style=\"color: #7fbfbf; text-decoration-color: #7fbfbf\">                    </span>         <span style=\"color: #0000ff; text-decoration-color: #0000ff; text-decoration: underline\">rimental-feature</span>                                                       <span style=\"color: #7f7f7f; text-decoration-color: #7f7f7f\">               </span>\n",
       "<span style=\"color: #7fbfbf; text-decoration-color: #7fbfbf\">                    </span>           <span style=\"color: #800080; text-decoration-color: #800080; font-weight: bold\">warnings.warn</span><span style=\"font-weight: bold\">(</span>                                                       <span style=\"color: #7f7f7f; text-decoration-color: #7f7f7f\">               </span>\n",
       "<span style=\"color: #7fbfbf; text-decoration-color: #7fbfbf\">                    </span>                                                                                <span style=\"color: #7f7f7f; text-decoration-color: #7f7f7f\">               </span>\n",
       "</pre>\n"
      ],
      "text/plain": [
       "\u001b[2;36m[06/17/25 14:12:52]\u001b[0m\u001b[2;36m \u001b[0m\u001b[33mWARNING \u001b[0m c:\\Users\\\u001b[1;36m35191\u001b[0m\\anaconda3\\anaconda\\envs\\Machine_Learning_Operations\\Lib \u001b]8;id=578394;file://c:\\Users\\35191\\anaconda3\\anaconda\\envs\\Machine_Learning_Operations\\Lib\\warnings.py\u001b\\\u001b[2mwarnings.py\u001b[0m\u001b]8;;\u001b\\\u001b[2m:\u001b[0m\u001b]8;id=842185;file://c:\\Users\\35191\\anaconda3\\anaconda\\envs\\Machine_Learning_Operations\\Lib\\warnings.py#110\u001b\\\u001b[2m110\u001b[0m\u001b]8;;\u001b\\\n",
       "\u001b[2;36m                    \u001b[0m         \\site-packages\\kedro\\io\\data_catalog.py:\u001b[1;36m165\u001b[0m: KedroDeprecationWarning:  \u001b[2m               \u001b[0m\n",
       "\u001b[2;36m                    \u001b[0m         `DataCatalog` has been deprecated and will be replaced by              \u001b[2m               \u001b[0m\n",
       "\u001b[2;36m                    \u001b[0m         `KedroDataCatalog`, in Kedro \u001b[1;36m1.0\u001b[0m.\u001b[1;36m0.\u001b[0mCurrently some `KedroDataCatalog`   \u001b[2m               \u001b[0m\n",
       "\u001b[2;36m                    \u001b[0m         APIs have been retained for compatibility with `DataCatalog`,          \u001b[2m               \u001b[0m\n",
       "\u001b[2;36m                    \u001b[0m         including the `datasets` property and the `get_datasets`,              \u001b[2m               \u001b[0m\n",
       "\u001b[2;36m                    \u001b[0m         `_get_datasets`, `add`,` list`, `add_feed_dict`, and `shallow_copy`    \u001b[2m               \u001b[0m\n",
       "\u001b[2;36m                    \u001b[0m         methods. These will be removed or replaced with updated alternatives   \u001b[2m               \u001b[0m\n",
       "\u001b[2;36m                    \u001b[0m         in Kedro \u001b[1;36m1.0\u001b[0m.\u001b[1;36m0\u001b[0m. For more details, refer to the documentation:          \u001b[2m               \u001b[0m\n",
       "\u001b[2;36m                    \u001b[0m         \u001b[4;94mhttps://docs.kedro.org/en/stable/data/index.html#kedrodatacatalog-expe\u001b[0m \u001b[2m               \u001b[0m\n",
       "\u001b[2;36m                    \u001b[0m         \u001b[4;94mrimental-feature\u001b[0m                                                       \u001b[2m               \u001b[0m\n",
       "\u001b[2;36m                    \u001b[0m           \u001b[1;35mwarnings.warn\u001b[0m\u001b[1m(\u001b[0m                                                       \u001b[2m               \u001b[0m\n",
       "\u001b[2;36m                    \u001b[0m                                                                                \u001b[2m               \u001b[0m\n"
      ]
     },
     "metadata": {},
     "output_type": "display_data"
    },
    {
     "data": {
      "text/html": [
       "<pre style=\"white-space:pre;overflow-x:auto;line-height:normal;font-family:Menlo,'DejaVu Sans Mono',consolas,'Courier New',monospace\"><span style=\"color: #7fbfbf; text-decoration-color: #7fbfbf\">                    </span><span style=\"color: #000080; text-decoration-color: #000080\">INFO    </span> Registering new custom resolver: <span style=\"color: #008000; text-decoration-color: #008000\">'km.random_name'</span>                    <a href=\"file://c:\\Users\\35191\\anaconda3\\anaconda\\envs\\Machine_Learning_Operations\\Lib\\site-packages\\kedro_mlflow\\framework\\hooks\\mlflow_hook.py\" target=\"_blank\"><span style=\"color: #7f7f7f; text-decoration-color: #7f7f7f\">mlflow_hook.py</span></a><span style=\"color: #7f7f7f; text-decoration-color: #7f7f7f\">:</span><a href=\"file://c:\\Users\\35191\\anaconda3\\anaconda\\envs\\Machine_Learning_Operations\\Lib\\site-packages\\kedro_mlflow\\framework\\hooks\\mlflow_hook.py#65\" target=\"_blank\"><span style=\"color: #7f7f7f; text-decoration-color: #7f7f7f\">65</span></a>\n",
       "</pre>\n"
      ],
      "text/plain": [
       "\u001b[2;36m                   \u001b[0m\u001b[2;36m \u001b[0m\u001b[34mINFO    \u001b[0m Registering new custom resolver: \u001b[32m'km.random_name'\u001b[0m                    \u001b]8;id=699318;file://c:\\Users\\35191\\anaconda3\\anaconda\\envs\\Machine_Learning_Operations\\Lib\\site-packages\\kedro_mlflow\\framework\\hooks\\mlflow_hook.py\u001b\\\u001b[2mmlflow_hook.py\u001b[0m\u001b]8;;\u001b\\\u001b[2m:\u001b[0m\u001b]8;id=237903;file://c:\\Users\\35191\\anaconda3\\anaconda\\envs\\Machine_Learning_Operations\\Lib\\site-packages\\kedro_mlflow\\framework\\hooks\\mlflow_hook.py#65\u001b\\\u001b[2m65\u001b[0m\u001b]8;;\u001b\\\n"
      ]
     },
     "metadata": {},
     "output_type": "display_data"
    },
    {
     "data": {
      "text/html": [
       "<pre style=\"white-space:pre;overflow-x:auto;line-height:normal;font-family:Menlo,'DejaVu Sans Mono',consolas,'Courier New',monospace\"><span style=\"color: #7fbfbf; text-decoration-color: #7fbfbf\">                    </span><span style=\"color: #808000; text-decoration-color: #808000\">WARNING </span> No <span style=\"color: #008000; text-decoration-color: #008000\">'mlflow.yml'</span> config file found in environment. Default            <a href=\"file://c:\\Users\\35191\\anaconda3\\anaconda\\envs\\Machine_Learning_Operations\\Lib\\site-packages\\kedro_mlflow\\framework\\hooks\\mlflow_hook.py\" target=\"_blank\"><span style=\"color: #7f7f7f; text-decoration-color: #7f7f7f\">mlflow_hook.py</span></a><span style=\"color: #7f7f7f; text-decoration-color: #7f7f7f\">:</span><a href=\"file://c:\\Users\\35191\\anaconda3\\anaconda\\envs\\Machine_Learning_Operations\\Lib\\site-packages\\kedro_mlflow\\framework\\hooks\\mlflow_hook.py#78\" target=\"_blank\"><span style=\"color: #7f7f7f; text-decoration-color: #7f7f7f\">78</span></a>\n",
       "<span style=\"color: #7fbfbf; text-decoration-color: #7fbfbf\">                    </span>         configuration will be used. Use ``kedro mlflow init`` command in CLI <span style=\"color: #7f7f7f; text-decoration-color: #7f7f7f\">                 </span>\n",
       "<span style=\"color: #7fbfbf; text-decoration-color: #7fbfbf\">                    </span>         to customize the configuration.                                      <span style=\"color: #7f7f7f; text-decoration-color: #7f7f7f\">                 </span>\n",
       "</pre>\n"
      ],
      "text/plain": [
       "\u001b[2;36m                   \u001b[0m\u001b[2;36m \u001b[0m\u001b[33mWARNING \u001b[0m No \u001b[32m'mlflow.yml'\u001b[0m config file found in environment. Default            \u001b]8;id=93811;file://c:\\Users\\35191\\anaconda3\\anaconda\\envs\\Machine_Learning_Operations\\Lib\\site-packages\\kedro_mlflow\\framework\\hooks\\mlflow_hook.py\u001b\\\u001b[2mmlflow_hook.py\u001b[0m\u001b]8;;\u001b\\\u001b[2m:\u001b[0m\u001b]8;id=579499;file://c:\\Users\\35191\\anaconda3\\anaconda\\envs\\Machine_Learning_Operations\\Lib\\site-packages\\kedro_mlflow\\framework\\hooks\\mlflow_hook.py#78\u001b\\\u001b[2m78\u001b[0m\u001b]8;;\u001b\\\n",
       "\u001b[2;36m                    \u001b[0m         configuration will be used. Use ``kedro mlflow init`` command in CLI \u001b[2m                 \u001b[0m\n",
       "\u001b[2;36m                    \u001b[0m         to customize the configuration.                                      \u001b[2m                 \u001b[0m\n"
      ]
     },
     "metadata": {},
     "output_type": "display_data"
    },
    {
     "data": {
      "text/html": [
       "<pre style=\"white-space:pre;overflow-x:auto;line-height:normal;font-family:Menlo,'DejaVu Sans Mono',consolas,'Courier New',monospace\"><span style=\"color: #7fbfbf; text-decoration-color: #7fbfbf\">[06/17/25 14:12:53] </span><span style=\"color: #808000; text-decoration-color: #808000\">WARNING </span> c:\\Users\\<span style=\"color: #008080; text-decoration-color: #008080; font-weight: bold\">35191</span>\\anaconda3\\anaconda\\envs\\Machine_Learning_Operations\\Lib <a href=\"file://c:\\Users\\35191\\anaconda3\\anaconda\\envs\\Machine_Learning_Operations\\Lib\\warnings.py\" target=\"_blank\"><span style=\"color: #7f7f7f; text-decoration-color: #7f7f7f\">warnings.py</span></a><span style=\"color: #7f7f7f; text-decoration-color: #7f7f7f\">:</span><a href=\"file://c:\\Users\\35191\\anaconda3\\anaconda\\envs\\Machine_Learning_Operations\\Lib\\warnings.py#110\" target=\"_blank\"><span style=\"color: #7f7f7f; text-decoration-color: #7f7f7f\">110</span></a>\n",
       "<span style=\"color: #7fbfbf; text-decoration-color: #7fbfbf\">                    </span>         \\site-packages\\kedro\\io\\core.py:<span style=\"color: #008080; text-decoration-color: #008080; font-weight: bold\">355</span>: KedroDeprecationWarning: The      <span style=\"color: #7f7f7f; text-decoration-color: #7f7f7f\">               </span>\n",
       "<span style=\"color: #7fbfbf; text-decoration-color: #7fbfbf\">                    </span>         MatplotlibWriter class has been renamed to MatplotlibDataset. The      <span style=\"color: #7f7f7f; text-decoration-color: #7f7f7f\">               </span>\n",
       "<span style=\"color: #7fbfbf; text-decoration-color: #7fbfbf\">                    </span>         MatplotlibWriter name is deprecated and will be removed in a future    <span style=\"color: #7f7f7f; text-decoration-color: #7f7f7f\">               </span>\n",
       "<span style=\"color: #7fbfbf; text-decoration-color: #7fbfbf\">                    </span>         release.                                                               <span style=\"color: #7f7f7f; text-decoration-color: #7f7f7f\">               </span>\n",
       "<span style=\"color: #7fbfbf; text-decoration-color: #7fbfbf\">                    </span>           <span style=\"color: #800080; text-decoration-color: #800080; font-weight: bold\">init_func</span><span style=\"font-weight: bold\">(</span>self, *args, **kwargs<span style=\"font-weight: bold\">)</span>                                     <span style=\"color: #7f7f7f; text-decoration-color: #7f7f7f\">               </span>\n",
       "<span style=\"color: #7fbfbf; text-decoration-color: #7fbfbf\">                    </span>                                                                                <span style=\"color: #7f7f7f; text-decoration-color: #7f7f7f\">               </span>\n",
       "</pre>\n"
      ],
      "text/plain": [
       "\u001b[2;36m[06/17/25 14:12:53]\u001b[0m\u001b[2;36m \u001b[0m\u001b[33mWARNING \u001b[0m c:\\Users\\\u001b[1;36m35191\u001b[0m\\anaconda3\\anaconda\\envs\\Machine_Learning_Operations\\Lib \u001b]8;id=88937;file://c:\\Users\\35191\\anaconda3\\anaconda\\envs\\Machine_Learning_Operations\\Lib\\warnings.py\u001b\\\u001b[2mwarnings.py\u001b[0m\u001b]8;;\u001b\\\u001b[2m:\u001b[0m\u001b]8;id=760747;file://c:\\Users\\35191\\anaconda3\\anaconda\\envs\\Machine_Learning_Operations\\Lib\\warnings.py#110\u001b\\\u001b[2m110\u001b[0m\u001b]8;;\u001b\\\n",
       "\u001b[2;36m                    \u001b[0m         \\site-packages\\kedro\\io\\core.py:\u001b[1;36m355\u001b[0m: KedroDeprecationWarning: The      \u001b[2m               \u001b[0m\n",
       "\u001b[2;36m                    \u001b[0m         MatplotlibWriter class has been renamed to MatplotlibDataset. The      \u001b[2m               \u001b[0m\n",
       "\u001b[2;36m                    \u001b[0m         MatplotlibWriter name is deprecated and will be removed in a future    \u001b[2m               \u001b[0m\n",
       "\u001b[2;36m                    \u001b[0m         release.                                                               \u001b[2m               \u001b[0m\n",
       "\u001b[2;36m                    \u001b[0m           \u001b[1;35minit_func\u001b[0m\u001b[1m(\u001b[0mself, *args, **kwargs\u001b[1m)\u001b[0m                                     \u001b[2m               \u001b[0m\n",
       "\u001b[2;36m                    \u001b[0m                                                                                \u001b[2m               \u001b[0m\n"
      ]
     },
     "metadata": {},
     "output_type": "display_data"
    },
    {
     "data": {
      "text/html": [
       "<pre style=\"white-space:pre;overflow-x:auto;line-height:normal;font-family:Menlo,'DejaVu Sans Mono',consolas,'Courier New',monospace\"><span style=\"color: #7fbfbf; text-decoration-color: #7fbfbf\">                    </span><span style=\"color: #000080; text-decoration-color: #000080\">INFO    </span> Kedro is sending anonymous usage data with the sole purpose of improving <a href=\"file://c:\\Users\\35191\\anaconda3\\anaconda\\envs\\Machine_Learning_Operations\\Lib\\site-packages\\kedro_telemetry\\plugin.py\" target=\"_blank\"><span style=\"color: #7f7f7f; text-decoration-color: #7f7f7f\">plugin.py</span></a><span style=\"color: #7f7f7f; text-decoration-color: #7f7f7f\">:</span><a href=\"file://c:\\Users\\35191\\anaconda3\\anaconda\\envs\\Machine_Learning_Operations\\Lib\\site-packages\\kedro_telemetry\\plugin.py#233\" target=\"_blank\"><span style=\"color: #7f7f7f; text-decoration-color: #7f7f7f\">233</span></a>\n",
       "<span style=\"color: #7fbfbf; text-decoration-color: #7fbfbf\">                    </span>         the product. No personal data or IP addresses are stored on our side. If <span style=\"color: #7f7f7f; text-decoration-color: #7f7f7f\">             </span>\n",
       "<span style=\"color: #7fbfbf; text-decoration-color: #7fbfbf\">                    </span>         you want to opt out, set the `KEDRO_DISABLE_TELEMETRY` or `DO_NOT_TRACK` <span style=\"color: #7f7f7f; text-decoration-color: #7f7f7f\">             </span>\n",
       "<span style=\"color: #7fbfbf; text-decoration-color: #7fbfbf\">                    </span>         environment variables, or create a `.telemetry` file in the current      <span style=\"color: #7f7f7f; text-decoration-color: #7f7f7f\">             </span>\n",
       "<span style=\"color: #7fbfbf; text-decoration-color: #7fbfbf\">                    </span>         working directory with the contents `consent: false`. Read more at       <span style=\"color: #7f7f7f; text-decoration-color: #7f7f7f\">             </span>\n",
       "<span style=\"color: #7fbfbf; text-decoration-color: #7fbfbf\">                    </span>         <span style=\"color: #0000ff; text-decoration-color: #0000ff; text-decoration: underline\">https://docs.kedro.org/en/stable/configuration/telemetry.html</span>            <span style=\"color: #7f7f7f; text-decoration-color: #7f7f7f\">             </span>\n",
       "</pre>\n"
      ],
      "text/plain": [
       "\u001b[2;36m                   \u001b[0m\u001b[2;36m \u001b[0m\u001b[34mINFO    \u001b[0m Kedro is sending anonymous usage data with the sole purpose of improving \u001b]8;id=832773;file://c:\\Users\\35191\\anaconda3\\anaconda\\envs\\Machine_Learning_Operations\\Lib\\site-packages\\kedro_telemetry\\plugin.py\u001b\\\u001b[2mplugin.py\u001b[0m\u001b]8;;\u001b\\\u001b[2m:\u001b[0m\u001b]8;id=982790;file://c:\\Users\\35191\\anaconda3\\anaconda\\envs\\Machine_Learning_Operations\\Lib\\site-packages\\kedro_telemetry\\plugin.py#233\u001b\\\u001b[2m233\u001b[0m\u001b]8;;\u001b\\\n",
       "\u001b[2;36m                    \u001b[0m         the product. No personal data or IP addresses are stored on our side. If \u001b[2m             \u001b[0m\n",
       "\u001b[2;36m                    \u001b[0m         you want to opt out, set the `KEDRO_DISABLE_TELEMETRY` or `DO_NOT_TRACK` \u001b[2m             \u001b[0m\n",
       "\u001b[2;36m                    \u001b[0m         environment variables, or create a `.telemetry` file in the current      \u001b[2m             \u001b[0m\n",
       "\u001b[2;36m                    \u001b[0m         working directory with the contents `consent: false`. Read more at       \u001b[2m             \u001b[0m\n",
       "\u001b[2;36m                    \u001b[0m         \u001b[4;94mhttps://docs.kedro.org/en/stable/configuration/telemetry.html\u001b[0m            \u001b[2m             \u001b[0m\n"
      ]
     },
     "metadata": {},
     "output_type": "display_data"
    },
    {
     "data": {
      "text/html": [
       "<pre style=\"white-space:pre;overflow-x:auto;line-height:normal;font-family:Menlo,'DejaVu Sans Mono',consolas,'Courier New',monospace\"><span style=\"color: #7fbfbf; text-decoration-color: #7fbfbf\">                    </span><span style=\"color: #000080; text-decoration-color: #000080\">INFO    </span> Loading data from <span style=\"color: #ff8700; text-decoration-color: #ff8700\">loans</span> <span style=\"font-weight: bold\">(</span>CSVDataset<span style=\"font-weight: bold\">)</span><span style=\"color: #808000; text-decoration-color: #808000\">...</span>                            <a href=\"file://c:\\Users\\35191\\anaconda3\\anaconda\\envs\\Machine_Learning_Operations\\Lib\\site-packages\\kedro\\io\\data_catalog.py\" target=\"_blank\"><span style=\"color: #7f7f7f; text-decoration-color: #7f7f7f\">data_catalog.py</span></a><span style=\"color: #7f7f7f; text-decoration-color: #7f7f7f\">:</span><a href=\"file://c:\\Users\\35191\\anaconda3\\anaconda\\envs\\Machine_Learning_Operations\\Lib\\site-packages\\kedro\\io\\data_catalog.py#401\" target=\"_blank\"><span style=\"color: #7f7f7f; text-decoration-color: #7f7f7f\">401</span></a>\n",
       "</pre>\n"
      ],
      "text/plain": [
       "\u001b[2;36m                   \u001b[0m\u001b[2;36m \u001b[0m\u001b[34mINFO    \u001b[0m Loading data from \u001b[38;5;208mloans\u001b[0m \u001b[1m(\u001b[0mCSVDataset\u001b[1m)\u001b[0m\u001b[33m...\u001b[0m                            \u001b]8;id=665090;file://c:\\Users\\35191\\anaconda3\\anaconda\\envs\\Machine_Learning_Operations\\Lib\\site-packages\\kedro\\io\\data_catalog.py\u001b\\\u001b[2mdata_catalog.py\u001b[0m\u001b]8;;\u001b\\\u001b[2m:\u001b[0m\u001b]8;id=457380;file://c:\\Users\\35191\\anaconda3\\anaconda\\envs\\Machine_Learning_Operations\\Lib\\site-packages\\kedro\\io\\data_catalog.py#401\u001b\\\u001b[2m401\u001b[0m\u001b]8;;\u001b\\\n"
      ]
     },
     "metadata": {},
     "output_type": "display_data"
    }
   ],
   "source": [
    "from pathlib import Path\n",
    "from kedro.framework.session import KedroSession\n",
    "from kedro.framework.startup import bootstrap_project\n",
    "import matplotlib.pyplot as plt\n",
    "import numpy as np\n",
    "import seaborn as sns\n",
    "\n",
    "# Define your project path (root where pyproject.toml lives)\n",
    "#project_path = Path(r\"C:\\Users\\35191\\Desktop\\Nova IMS\\Master's\\1st Year\\2nd Semester\\Machine Learning Operations\\Project\\MLOPs\\mlops-project\").resolve()\n",
    "\n",
    "# Get the project root (2 levels up from this script)\n",
    "project_path = Path.cwd().parents[1]\n",
    "\n",
    "# Bootstrap project (loads pyproject.toml and settings)\n",
    "bootstrap_project(project_path)\n",
    "\n",
    "# Create Kedro session for your project\n",
    "session = KedroSession.create()\n",
    "\n",
    "# Load the Kedro context (access pipelines, catalog, etc.)\n",
    "context = session.load_context()\n",
    "\n",
    "# Now you can load your dataset from the catalog:\n",
    "df = context.catalog.load(\"loans\")"
   ]
  },
  {
   "cell_type": "code",
   "execution_count": 7,
   "id": "6c05c53a",
   "metadata": {},
   "outputs": [
    {
     "data": {
      "text/html": [
       "<pre style=\"white-space:pre;overflow-x:auto;line-height:normal;font-family:Menlo,'DejaVu Sans Mono',consolas,'Courier New',monospace\"></pre>\n"
      ],
      "text/plain": []
     },
     "metadata": {},
     "output_type": "display_data"
    },
    {
     "data": {
      "text/html": [
       "<div>\n",
       "<style scoped>\n",
       "    .dataframe tbody tr th:only-of-type {\n",
       "        vertical-align: middle;\n",
       "    }\n",
       "\n",
       "    .dataframe tbody tr th {\n",
       "        vertical-align: top;\n",
       "    }\n",
       "\n",
       "    .dataframe thead th {\n",
       "        text-align: right;\n",
       "    }\n",
       "</style>\n",
       "<table border=\"1\" class=\"dataframe\">\n",
       "  <thead>\n",
       "    <tr style=\"text-align: right;\">\n",
       "      <th></th>\n",
       "      <th>loan_id</th>\n",
       "      <th>no_of_dependents</th>\n",
       "      <th>education</th>\n",
       "      <th>self_employed</th>\n",
       "      <th>income_annum</th>\n",
       "      <th>loan_amount</th>\n",
       "      <th>loan_term</th>\n",
       "      <th>cibil_score</th>\n",
       "      <th>residential_assets_value</th>\n",
       "      <th>commercial_assets_value</th>\n",
       "      <th>luxury_assets_value</th>\n",
       "      <th>bank_asset_value</th>\n",
       "      <th>loan_status</th>\n",
       "    </tr>\n",
       "  </thead>\n",
       "  <tbody>\n",
       "    <tr>\n",
       "      <th>0</th>\n",
       "      <td>1</td>\n",
       "      <td>2</td>\n",
       "      <td>Graduate</td>\n",
       "      <td>No</td>\n",
       "      <td>9600000</td>\n",
       "      <td>29900000</td>\n",
       "      <td>12</td>\n",
       "      <td>778</td>\n",
       "      <td>2400000</td>\n",
       "      <td>17600000</td>\n",
       "      <td>22700000</td>\n",
       "      <td>8000000</td>\n",
       "      <td>Approved</td>\n",
       "    </tr>\n",
       "    <tr>\n",
       "      <th>1</th>\n",
       "      <td>2</td>\n",
       "      <td>0</td>\n",
       "      <td>Not Graduate</td>\n",
       "      <td>Yes</td>\n",
       "      <td>4100000</td>\n",
       "      <td>12200000</td>\n",
       "      <td>8</td>\n",
       "      <td>417</td>\n",
       "      <td>2700000</td>\n",
       "      <td>2200000</td>\n",
       "      <td>8800000</td>\n",
       "      <td>3300000</td>\n",
       "      <td>Rejected</td>\n",
       "    </tr>\n",
       "    <tr>\n",
       "      <th>2</th>\n",
       "      <td>3</td>\n",
       "      <td>3</td>\n",
       "      <td>Graduate</td>\n",
       "      <td>No</td>\n",
       "      <td>9100000</td>\n",
       "      <td>29700000</td>\n",
       "      <td>20</td>\n",
       "      <td>506</td>\n",
       "      <td>7100000</td>\n",
       "      <td>4500000</td>\n",
       "      <td>33300000</td>\n",
       "      <td>12800000</td>\n",
       "      <td>Rejected</td>\n",
       "    </tr>\n",
       "    <tr>\n",
       "      <th>3</th>\n",
       "      <td>4</td>\n",
       "      <td>3</td>\n",
       "      <td>Graduate</td>\n",
       "      <td>No</td>\n",
       "      <td>8200000</td>\n",
       "      <td>30700000</td>\n",
       "      <td>8</td>\n",
       "      <td>467</td>\n",
       "      <td>18200000</td>\n",
       "      <td>3300000</td>\n",
       "      <td>23300000</td>\n",
       "      <td>7900000</td>\n",
       "      <td>Rejected</td>\n",
       "    </tr>\n",
       "    <tr>\n",
       "      <th>4</th>\n",
       "      <td>5</td>\n",
       "      <td>5</td>\n",
       "      <td>Not Graduate</td>\n",
       "      <td>Yes</td>\n",
       "      <td>9800000</td>\n",
       "      <td>24200000</td>\n",
       "      <td>20</td>\n",
       "      <td>382</td>\n",
       "      <td>12400000</td>\n",
       "      <td>8200000</td>\n",
       "      <td>29400000</td>\n",
       "      <td>5000000</td>\n",
       "      <td>Rejected</td>\n",
       "    </tr>\n",
       "  </tbody>\n",
       "</table>\n",
       "</div>"
      ],
      "text/plain": [
       "\n",
       "   loan_id   no_of_dependents      education  self_employed   income_annum  \\\n",
       "\u001b[1;36m0\u001b[0m        \u001b[1;36m1\u001b[0m                  \u001b[1;36m2\u001b[0m       Graduate             No        \u001b[1;36m9600000\u001b[0m   \n",
       "\u001b[1;36m1\u001b[0m        \u001b[1;36m2\u001b[0m                  \u001b[1;36m0\u001b[0m   Not Graduate            Yes        \u001b[1;36m4100000\u001b[0m   \n",
       "\u001b[1;36m2\u001b[0m        \u001b[1;36m3\u001b[0m                  \u001b[1;36m3\u001b[0m       Graduate             No        \u001b[1;36m9100000\u001b[0m   \n",
       "\u001b[1;36m3\u001b[0m        \u001b[1;36m4\u001b[0m                  \u001b[1;36m3\u001b[0m       Graduate             No        \u001b[1;36m8200000\u001b[0m   \n",
       "\u001b[1;36m4\u001b[0m        \u001b[1;36m5\u001b[0m                  \u001b[1;36m5\u001b[0m   Not Graduate            Yes        \u001b[1;36m9800000\u001b[0m   \n",
       "\n",
       "    loan_amount   loan_term   cibil_score   residential_assets_value  \\\n",
       "\u001b[1;36m0\u001b[0m      \u001b[1;36m29900000\u001b[0m          \u001b[1;36m12\u001b[0m           \u001b[1;36m778\u001b[0m                    \u001b[1;36m2400000\u001b[0m   \n",
       "\u001b[1;36m1\u001b[0m      \u001b[1;36m12200000\u001b[0m           \u001b[1;36m8\u001b[0m           \u001b[1;36m417\u001b[0m                    \u001b[1;36m2700000\u001b[0m   \n",
       "\u001b[1;36m2\u001b[0m      \u001b[1;36m29700000\u001b[0m          \u001b[1;36m20\u001b[0m           \u001b[1;36m506\u001b[0m                    \u001b[1;36m7100000\u001b[0m   \n",
       "\u001b[1;36m3\u001b[0m      \u001b[1;36m30700000\u001b[0m           \u001b[1;36m8\u001b[0m           \u001b[1;36m467\u001b[0m                   \u001b[1;36m18200000\u001b[0m   \n",
       "\u001b[1;36m4\u001b[0m      \u001b[1;36m24200000\u001b[0m          \u001b[1;36m20\u001b[0m           \u001b[1;36m382\u001b[0m                   \u001b[1;36m12400000\u001b[0m   \n",
       "\n",
       "    commercial_assets_value   luxury_assets_value   bank_asset_value  \\\n",
       "\u001b[1;36m0\u001b[0m                  \u001b[1;36m17600000\u001b[0m              \u001b[1;36m22700000\u001b[0m            \u001b[1;36m8000000\u001b[0m   \n",
       "\u001b[1;36m1\u001b[0m                   \u001b[1;36m2200000\u001b[0m               \u001b[1;36m8800000\u001b[0m            \u001b[1;36m3300000\u001b[0m   \n",
       "\u001b[1;36m2\u001b[0m                   \u001b[1;36m4500000\u001b[0m              \u001b[1;36m33300000\u001b[0m           \u001b[1;36m12800000\u001b[0m   \n",
       "\u001b[1;36m3\u001b[0m                   \u001b[1;36m3300000\u001b[0m              \u001b[1;36m23300000\u001b[0m            \u001b[1;36m7900000\u001b[0m   \n",
       "\u001b[1;36m4\u001b[0m                   \u001b[1;36m8200000\u001b[0m              \u001b[1;36m29400000\u001b[0m            \u001b[1;36m5000000\u001b[0m   \n",
       "\n",
       "   loan_status  \n",
       "\u001b[1;36m0\u001b[0m     Approved  \n",
       "\u001b[1;36m1\u001b[0m     Rejected  \n",
       "\u001b[1;36m2\u001b[0m     Rejected  \n",
       "\u001b[1;36m3\u001b[0m     Rejected  \n",
       "\u001b[1;36m4\u001b[0m     Rejected  "
      ]
     },
     "execution_count": 7,
     "metadata": {},
     "output_type": "execute_result"
    }
   ],
   "source": [
    "df.head()"
   ]
  },
  {
   "cell_type": "code",
   "execution_count": null,
   "id": "81dec8e4",
   "metadata": {},
   "outputs": [],
   "source": []
  }
 ],
 "metadata": {
  "kernelspec": {
   "display_name": "Python 3",
   "language": "python",
   "name": "python3"
  },
  "language_info": {
   "codemirror_mode": {
    "name": "ipython",
    "version": 3
   },
   "file_extension": ".py",
   "mimetype": "text/x-python",
   "name": "python",
   "nbconvert_exporter": "python",
   "pygments_lexer": "ipython3",
   "version": "3.11.12"
  }
 },
 "nbformat": 4,
 "nbformat_minor": 5
}
